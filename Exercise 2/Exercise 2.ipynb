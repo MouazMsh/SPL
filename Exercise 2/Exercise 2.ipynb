{
 "cells": [
  {
   "cell_type": "code",
   "execution_count": 2,
   "id": "19961463",
   "metadata": {},
   "outputs": [],
   "source": [
    "#importing the necessary libraries\n",
    "import pandas as pd\n",
    "import numpy as np\n",
    "import matplotlib.pyplot as plt"
   ]
  },
  {
   "cell_type": "code",
   "execution_count": 3,
   "id": "3b3dfec7",
   "metadata": {},
   "outputs": [],
   "source": [
    "#Let's create an empty dictionary to store the data.\n",
    "shooting_dic ={}"
   ]
  },
  {
   "cell_type": "code",
   "execution_count": 4,
   "id": "efcd05b3",
   "metadata": {},
   "outputs": [
    {
     "name": "stdout",
     "output_type": "stream",
     "text": [
      "   Unnamed: 0 Unnamed: 1 Unnamed: 2 Standard Unnamed: 4 Unnamed: 5 Unnamed: 6  \\\n",
      "0       Squad       # Pl        90s      Gls         Sh        SoT       SoT%   \n",
      "1     Al-Ahli         36         30       67        413        167       40.4   \n",
      "2    Al-Hilal         30         30       66        491        189       38.5   \n",
      "3  Al-Ittihad         40         30       44        450        150       33.3   \n",
      "4    Al-Nassr         31         30       66        446        166       37.2   \n",
      "5   Al-Shabab         31         30       39        453        160       35.3   \n",
      "\n",
      "  Unnamed: 7 Unnamed: 8 Unnamed: 9 Unnamed: 10 Unnamed: 11 Unnamed: 12  \\\n",
      "0      Sh/90     SoT/90       G/Sh       G/SoT        Dist          PK   \n",
      "1      13.77       5.57       0.14        0.35         NaN           8   \n",
      "2      16.37        6.3       0.11        0.29         NaN          12   \n",
      "3         15          5       0.09        0.27         NaN           3   \n",
      "4      14.87       5.53       0.13        0.35         NaN           8   \n",
      "5       15.1       5.33       0.08        0.23         NaN           3   \n",
      "\n",
      "  Unnamed: 13  \n",
      "0       PKatt  \n",
      "1           8  \n",
      "2          15  \n",
      "3           5  \n",
      "4           9  \n",
      "5           4  \n"
     ]
    }
   ],
   "source": [
    "#Let's open the file, you have to be familiar with the content of the data in order to deal with it.\n",
    "df = pd.read_csv(r'Shooting-2018-2019.csv')\n",
    "#let's explore the data\n",
    "print(df)"
   ]
  },
  {
   "cell_type": "code",
   "execution_count": 5,
   "id": "82247507",
   "metadata": {},
   "outputs": [
    {
     "name": "stdout",
     "output_type": "stream",
     "text": [
      "{'Al-Ahli': {'2018-2019': ['67', '413', '167', '40.4', '13.77', '5.57', '0.14', '0.35']}, 'Al-Hilal': {'2018-2019': ['66', '491', '189', '38.5', '16.37', '6.3', '0.11', '0.29']}, 'Al-Ittihad': {'2018-2019': ['44', '450', '150', '33.3', '15', '5', '0.09', '0.27']}, 'Al-Nassr': {'2018-2019': ['66', '446', '166', '37.2', '14.87', '5.53', '0.13', '0.35']}, 'Al-Shabab': {'2018-2019': ['39', '453', '160', '35.3', '15.1', '5.33', '0.08', '0.23']}}\n"
     ]
    }
   ],
   "source": [
    "#I'm going now to assign values into the dictionary, for my case I will do something like {'Al-Hilal': '2018-2019':[data_here]}\n",
    "#Initializing an itirator \n",
    "i=1\n",
    "for team in df[\"Unnamed: 0\"][1:]:\n",
    "    shooting_dic[team] = {}\n",
    "    shooting_dic[team][\"2018-2019\"] = []\n",
    "    for column in df.columns[3:11]:\n",
    "        shooting_dic[team][\"2018-2019\"].append(df[column][i])\n",
    "    i +=1\n",
    "#Let's print it and see the contents.\n",
    "print(shooting_dic)"
   ]
  },
  {
   "cell_type": "code",
   "execution_count": 6,
   "id": "889ef2db",
   "metadata": {},
   "outputs": [
    {
     "name": "stdout",
     "output_type": "stream",
     "text": [
      "{'Al-Ahli': {'2018-2019': ['67', '413', '167', '40.4', '13.77', '5.57', '0.14', '0.35'], '2019-2020': ['48', '421', '148', '35.2', '14.03', '4.93', '0.1', '0.3']}, 'Al-Hilal': {'2018-2019': ['66', '491', '189', '38.5', '16.37', '6.3', '0.11', '0.29'], '2019-2020': ['73', '422', '179', '42.4', '14.07', '5.97', '0.14', '0.34']}, 'Al-Ittihad': {'2018-2019': ['44', '450', '150', '33.3', '15', '5', '0.09', '0.27'], '2019-2020': ['41', '321', '125', '38.9', '10.7', '4.17', '0.11', '0.27']}, 'Al-Nassr': {'2018-2019': ['66', '446', '166', '37.2', '14.87', '5.53', '0.13', '0.35'], '2019-2020': ['60', '512', '191', '37.3', '17.07', '6.37', '0.1', '0.27']}, 'Al-Shabab': {'2018-2019': ['39', '453', '160', '35.3', '15.1', '5.33', '0.08', '0.23'], '2019-2020': ['38', '379', '133', '35.1', '12.63', '4.43', '0.09', '0.26']}}\n",
      "\n",
      "{'Al-Ahli': {'2018-2019': ['67', '413', '167', '40.4', '13.77', '5.57', '0.14', '0.35'], '2019-2020': ['48', '421', '148', '35.2', '14.03', '4.93', '0.1', '0.3'], '2020-2021': ['44', '376', '139', '37', '12.53', '4.63', '0.1', '0.27']}, 'Al-Hilal': {'2018-2019': ['66', '491', '189', '38.5', '16.37', '6.3', '0.11', '0.29'], '2019-2020': ['73', '422', '179', '42.4', '14.07', '5.97', '0.14', '0.34'], '2020-2021': ['60', '472', '189', '40', '15.73', '6.3', '0.11', '0.26']}, 'Al-Ittihad': {'2018-2019': ['44', '450', '150', '33.3', '15', '5', '0.09', '0.27'], '2019-2020': ['41', '321', '125', '38.9', '10.7', '4.17', '0.11', '0.27'], '2020-2021': ['44', '376', '125', '33.2', '12.53', '4.17', '0.1', '0.31']}, 'Al-Nassr': {'2018-2019': ['66', '446', '166', '37.2', '14.87', '5.53', '0.13', '0.35'], '2019-2020': ['60', '512', '191', '37.3', '17.07', '6.37', '0.1', '0.27'], '2020-2021': ['52', '461', '167', '36.2', '15.37', '5.57', '0.09', '0.25']}, 'Al-Shabab': {'2018-2019': ['39', '453', '160', '35.3', '15.1', '5.33', '0.08', '0.23'], '2019-2020': ['38', '379', '133', '35.1', '12.63', '4.43', '0.09', '0.26'], '2020-2021': ['68', '443', '191', '43.1', '14.77', '6.37', '0.14', '0.32']}}\n"
     ]
    }
   ],
   "source": [
    "#Great, now let's do this over again and add the stats of another seasons, we could implement a function for that purpose, but since I have only the stats of 3 seasons, I will repeate the process.\n",
    "df = pd.read_csv(r'Shooting-2019-2020.csv')\n",
    "i = 1\n",
    "for key in shooting_dic.keys():\n",
    "    shooting_dic[key][\"2019-2020\"] = []\n",
    "    for column in df.columns[3:11]:\n",
    "        shooting_dic[key][\"2019-2020\"].append(df[column][i])\n",
    "    i +=1\n",
    "print(shooting_dic)\n",
    "print()\n",
    "\n",
    "df = pd.read_csv(r'Shooting-2020-2021.csv')\n",
    "i = 1\n",
    "for key in shooting_dic.keys():\n",
    "    shooting_dic[key][\"2020-2021\"] = []\n",
    "    for column in df.columns[3:11]:\n",
    "        shooting_dic[key][\"2020-2021\"].append(df[column][i])\n",
    "    i +=1\n",
    "print(shooting_dic)"
   ]
  },
  {
   "cell_type": "code",
   "execution_count": 7,
   "id": "379fb0c4",
   "metadata": {},
   "outputs": [],
   "source": [
    "#Now, I will get the number of goals scored by the big five teams and save'em in a lists.\n",
    "seasons = [\"2018-2019\",\"2019-2020\",\"2020-2021\"]\n",
    "goals_ahli = [int(shooting_dic[key][season][0]) for key in list(shooting_dic.keys())[:1] for season in shooting_dic[key]]\n",
    "goals_hilal = [int(shooting_dic[key][season][0]) for key in list(shooting_dic.keys())[1:2] for season in shooting_dic[key]]\n",
    "goals_ittihad = [int(shooting_dic[key][season][0]) for key in list(shooting_dic.keys())[2:3] for season in shooting_dic[key]]\n",
    "goals_nasr = [int(shooting_dic[key][season][0]) for key in list(shooting_dic.keys())[3:4] for season in shooting_dic[key]]\n",
    "goals_shabab = [int(shooting_dic[key][season][0]) for key in list(shooting_dic.keys())[4:] for season in shooting_dic[key]]"
   ]
  },
  {
   "cell_type": "code",
   "execution_count": 8,
   "id": "935191ee",
   "metadata": {},
   "outputs": [],
   "source": [
    "#Let's implement a function to make the values appear on the graph.\n",
    "def display_values(x_values,y_values):\n",
    "    for x, y in zip(x_values, y_values):\n",
    "        label = \"{:}\".format(y)\n",
    "\n",
    "        plt.annotate(label,  # this is the text\n",
    "                     (x, y),  # this is the point to label\n",
    "                     textcoords=\"offset points\",  # how to position the text\n",
    "                     xytext=(0, 10),  # distance from text to points (x,y)\n",
    "                     ha='center')  # horizontal alignment can be left, right or center"
   ]
  },
  {
   "cell_type": "code",
   "execution_count": 9,
   "id": "7c52698c",
   "metadata": {},
   "outputs": [
    {
     "data": {
      "image/png": "[encoded data removed]",
      "text/plain": [
       "<Figure size 432x288 with 1 Axes>"
      ]
     },
     "metadata": {
      "needs_background": "light"
     },
     "output_type": "display_data"
    }
   ],
   "source": [
    "#Now, let's visualize that with line chart.\n",
    "df=pd.DataFrame({'x_values': seasons, 'y1_values':goals_ahli, 'y2_values': goals_hilal, 'y3_values': goals_ittihad, 'y4_values': goals_nasr, 'y5_values': goals_shabab})\n",
    "plt.plot( 'x_values', 'y1_values', data=df, marker='o', color='skyblue', linewidth=2, label=\"Ahli\")\n",
    "plt.plot( 'x_values', 'y2_values', data=df, marker='o', color='red', linewidth=2, label=\"Hilal\")\n",
    "plt.plot( 'x_values', 'y3_values', data=df, marker='o', color='olive', linewidth=2, label=\"Ittihad\")\n",
    "plt.plot( 'x_values', 'y4_values', data=df, marker='o', color='yellow', linewidth=2, label=\"Nasr\")\n",
    "plt.plot( 'x_values', 'y5_values', data=df, marker='o', color='orange', linewidth=2, label=\"Shabab\")\n",
    "plt.legend()\n",
    "plt.title('Goals Vs Seasons')\n",
    "plt.xlabel('Seasons')\n",
    "plt.ylabel('Goals')\n",
    "plt.grid(True)\n",
    "display_values(seasons,goals_ahli)\n",
    "display_values(seasons,goals_hilal)\n",
    "display_values(seasons,goals_ittihad)\n",
    "display_values(seasons,goals_nasr)\n",
    "display_values(seasons,goals_shabab)\n",
    "plt.show()"
   ]
  },
  {
   "cell_type": "code",
   "execution_count": null,
   "id": "d8657fb0",
   "metadata": {},
   "outputs": [],
   "source": [
    "#Can you spot one intersting thing in the graph?? Hint: maybe it's associated with singing an Argentinian player!🤩 "
   ]
  }
 ],
 "metadata": {
  "kernelspec": {
   "display_name": "Python 3",
   "language": "python",
   "name": "python3"
  },
  "language_info": {
   "codemirror_mode": {
    "name": "ipython",
    "version": 3
   },
   "file_extension": ".py",
   "mimetype": "text/x-python",
   "name": "python",
   "nbconvert_exporter": "python",
   "pygments_lexer": "ipython3",
   "version": "3.8.8"
  }
 },
 "nbformat": 4,
 "nbformat_minor": 5
}
